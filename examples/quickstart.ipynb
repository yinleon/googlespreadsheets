{
 "cells": [
  {
   "cell_type": "markdown",
   "metadata": {},
   "source": [
    "# Quickstart\n",
    "View this notebook on [NBViewer](http://nbviewer.jupyter.org/github/yinleon/googlespreadsheets/blob/master/examples/quickstart.ipynb?flush_cache=true) or on [Github](https://github.com/yinleon/googlespreadsheets/blob/master/examples/quickstart.ipynb)\n",
    "\n",
    "After you authorize the API in the Google Cloud Console, you can download the `client_secrets` file, and request an access token."
   ]
  },
  {
   "cell_type": "code",
   "execution_count": 5,
   "metadata": {},
   "outputs": [
    {
     "name": "stdout",
     "output_type": "stream",
     "text": [
      "Updated 2018-07-26 17:30:07.832103\n",
      "By Leon Yin\n",
      "Using Python 3.6.5\n",
      "On Linux-3.10.0-514.10.2.el7.x86_64-x86_64-with-centos-7.3.1611-Core\n"
     ]
    }
   ],
   "source": [
    "import os\n",
    "import json\n",
    "from googlespreadsheets import GoogleSheets\n",
    "from runtimestamp.runtimestamp import runtimestamp\n",
    "runtimestamp('Leon Yin')"
   ]
  },
  {
   "cell_type": "code",
   "execution_count": 3,
   "metadata": {},
   "outputs": [],
   "source": [
    "CRED_PATH = '/home/ly501/.creds'\n",
    "CLIENT_SECRET_FILE = os.path.join(CRED_PATH,\n",
    "                                  'client_secret.json')\n",
    "AUTHENTICATED_CRED = os.path.join(CRED_PATH,\n",
    "                                 'access_token.json')"
   ]
  },
  {
   "cell_type": "markdown",
   "metadata": {},
   "source": [
    "Instantiate the API wrapper:"
   ]
  },
  {
   "cell_type": "code",
   "execution_count": 5,
   "metadata": {},
   "outputs": [],
   "source": [
    "goog = GoogleSheets(client_secret=CLIENT_SECRET_FILE, \n",
    "                    access_token=AUTHENTICATED_CRED)"
   ]
  },
  {
   "cell_type": "code",
   "execution_count": 15,
   "metadata": {},
   "outputs": [],
   "source": [
    "# this is a public sheet\n",
    "sheet_id = '1BxiMVs0XRA5nFMdKvBdBZjgmUUqptlbs74OgvE2upms'"
   ]
  },
  {
   "cell_type": "code",
   "execution_count": 7,
   "metadata": {},
   "outputs": [
    {
     "data": {
      "text/html": [
       "<div>\n",
       "<style scoped>\n",
       "    .dataframe tbody tr th:only-of-type {\n",
       "        vertical-align: middle;\n",
       "    }\n",
       "\n",
       "    .dataframe tbody tr th {\n",
       "        vertical-align: top;\n",
       "    }\n",
       "\n",
       "    .dataframe thead th {\n",
       "        text-align: right;\n",
       "    }\n",
       "</style>\n",
       "<table border=\"1\" class=\"dataframe\">\n",
       "  <thead>\n",
       "    <tr style=\"text-align: right;\">\n",
       "      <th></th>\n",
       "      <th>Student Name</th>\n",
       "      <th>Gender</th>\n",
       "      <th>Class Level</th>\n",
       "      <th>Home State</th>\n",
       "      <th>Major</th>\n",
       "      <th>Extracurricular Activity</th>\n",
       "    </tr>\n",
       "  </thead>\n",
       "  <tbody>\n",
       "    <tr>\n",
       "      <th>0</th>\n",
       "      <td>Alexandra</td>\n",
       "      <td>Female</td>\n",
       "      <td>4. Senior</td>\n",
       "      <td>CA</td>\n",
       "      <td>English</td>\n",
       "      <td>Drama Club</td>\n",
       "    </tr>\n",
       "    <tr>\n",
       "      <th>1</th>\n",
       "      <td>Andrew</td>\n",
       "      <td>Male</td>\n",
       "      <td>1. Freshman</td>\n",
       "      <td>SD</td>\n",
       "      <td>Math</td>\n",
       "      <td>Lacrosse</td>\n",
       "    </tr>\n",
       "    <tr>\n",
       "      <th>2</th>\n",
       "      <td>Anna</td>\n",
       "      <td>Female</td>\n",
       "      <td>1. Freshman</td>\n",
       "      <td>NC</td>\n",
       "      <td>English</td>\n",
       "      <td>Basketball</td>\n",
       "    </tr>\n",
       "    <tr>\n",
       "      <th>3</th>\n",
       "      <td>Becky</td>\n",
       "      <td>Female</td>\n",
       "      <td>2. Sophomore</td>\n",
       "      <td>SD</td>\n",
       "      <td>Art</td>\n",
       "      <td>Baseball</td>\n",
       "    </tr>\n",
       "    <tr>\n",
       "      <th>4</th>\n",
       "      <td>Benjamin</td>\n",
       "      <td>Male</td>\n",
       "      <td>4. Senior</td>\n",
       "      <td>WI</td>\n",
       "      <td>English</td>\n",
       "      <td>Basketball</td>\n",
       "    </tr>\n",
       "  </tbody>\n",
       "</table>\n",
       "</div>"
      ],
      "text/plain": [
       "  Student Name  Gender   Class Level Home State    Major  \\\n",
       "0    Alexandra  Female     4. Senior         CA  English   \n",
       "1       Andrew    Male   1. Freshman         SD     Math   \n",
       "2         Anna  Female   1. Freshman         NC  English   \n",
       "3        Becky  Female  2. Sophomore         SD      Art   \n",
       "4     Benjamin    Male     4. Senior         WI  English   \n",
       "\n",
       "  Extracurricular Activity  \n",
       "0               Drama Club  \n",
       "1                 Lacrosse  \n",
       "2               Basketball  \n",
       "3                 Baseball  \n",
       "4               Basketball  "
      ]
     },
     "execution_count": 7,
     "metadata": {},
     "output_type": "execute_result"
    }
   ],
   "source": [
    "df = goog.read_sheet(sheet_id, tab='Class Data', cell_range='A1:F')\n",
    "df.head()"
   ]
  },
  {
   "cell_type": "code",
   "execution_count": 8,
   "metadata": {},
   "outputs": [],
   "source": [
    "# create an entirely new sheet\n",
    "resp = goog.to_sheet(df, cell_range='A1:F')"
   ]
  },
  {
   "cell_type": "code",
   "execution_count": 9,
   "metadata": {},
   "outputs": [
    {
     "data": {
      "text/plain": [
       "{'spreadsheetId': '14KplKfDKxdau0xxOFh-9CbXV5NUfCYL_qVclFvbbp8U',\n",
       " 'updatedRange': 'Sheet1!A1:F31',\n",
       " 'updatedRows': 31,\n",
       " 'updatedColumns': 6,\n",
       " 'updatedCells': 186}"
      ]
     },
     "execution_count": 9,
     "metadata": {},
     "output_type": "execute_result"
    }
   ],
   "source": [
    "resp"
   ]
  },
  {
   "cell_type": "markdown",
   "metadata": {},
   "source": [
    "Let's modify this dataset by trying to predict if each of these students will be a success:"
   ]
  },
  {
   "cell_type": "code",
   "execution_count": 11,
   "metadata": {},
   "outputs": [],
   "source": [
    "import random\n",
    "\n",
    "def predict_future(activity):\n",
    "    if activity in ['Lacrosse', 'Basketball', 'Baseball']:\n",
    "        return random.random() < .6\n",
    "        \n",
    "    elif activity in ['Debate', 'Drama Club']:  \n",
    "        return random.random() < .2\n",
    "    \n",
    "    else:\n",
    "        return random.random() >= .5"
   ]
  },
  {
   "cell_type": "code",
   "execution_count": 13,
   "metadata": {},
   "outputs": [],
   "source": [
    "df['Is Successful'] = df['Extracurricular Activity'].apply(predict_future)"
   ]
  },
  {
   "cell_type": "markdown",
   "metadata": {},
   "source": [
    "We can use `to_sheet` to update sheets as well:"
   ]
  },
  {
   "cell_type": "code",
   "execution_count": 14,
   "metadata": {},
   "outputs": [
    {
     "data": {
      "text/plain": [
       "{'spreadsheetId': '14KplKfDKxdau0xxOFh-9CbXV5NUfCYL_qVclFvbbp8U',\n",
       " 'updatedRange': 'Sheet1!A1:G31',\n",
       " 'updatedRows': 31,\n",
       " 'updatedColumns': 7,\n",
       " 'updatedCells': 217}"
      ]
     },
     "execution_count": 14,
     "metadata": {},
     "output_type": "execute_result"
    }
   ],
   "source": [
    "goog.to_sheet(df, sheet_id=resp['spreadsheetId'], \n",
    "              cell_range='A1:G', tab='Sheet1')"
   ]
  }
 ],
 "metadata": {
  "kernelspec": {
   "display_name": "Python 3",
   "language": "python",
   "name": "python3"
  },
  "language_info": {
   "codemirror_mode": {
    "name": "ipython",
    "version": 3
   },
   "file_extension": ".py",
   "mimetype": "text/x-python",
   "name": "python",
   "nbconvert_exporter": "python",
   "pygments_lexer": "ipython3",
   "version": "3.6.5"
  }
 },
 "nbformat": 4,
 "nbformat_minor": 2
}
